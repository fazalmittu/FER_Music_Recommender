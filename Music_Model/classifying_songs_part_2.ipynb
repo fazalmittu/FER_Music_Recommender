{
  "nbformat": 4,
  "nbformat_minor": 0,
  "metadata": {
    "colab": {
      "name": "classifying songs part 2",
      "provenance": [],
      "collapsed_sections": []
    },
    "kernelspec": {
      "name": "python3",
      "display_name": "Python 3"
    },
    "language_info": {
      "name": "python"
    }
  },
  "cells": [
    {
      "cell_type": "markdown",
      "metadata": {
        "id": "9LC1BMz3y41y"
      },
      "source": [
        "PIP COMMAND: Add more in a separate cell if necessary"
      ]
    },
    {
      "cell_type": "code",
      "metadata": {
        "colab": {
          "base_uri": "https://localhost:8080/"
        },
        "id": "SVitEDVK7w0f",
        "outputId": "8f872fe9-77bf-44f1-f10b-1abf1a001e2b"
      },
      "source": [
        "pip install spotipy"
      ],
      "execution_count": 5,
      "outputs": [
        {
          "output_type": "stream",
          "text": [
            "Requirement already satisfied: spotipy in /usr/local/lib/python3.7/dist-packages (2.18.0)\n",
            "Requirement already satisfied: requests>=2.25.0 in /usr/local/lib/python3.7/dist-packages (from spotipy) (2.26.0)\n",
            "Requirement already satisfied: urllib3>=1.26.0 in /usr/local/lib/python3.7/dist-packages (from spotipy) (1.26.6)\n",
            "Requirement already satisfied: six>=1.15.0 in /usr/local/lib/python3.7/dist-packages (from spotipy) (1.15.0)\n",
            "Requirement already satisfied: charset-normalizer~=2.0.0; python_version >= \"3\" in /usr/local/lib/python3.7/dist-packages (from requests>=2.25.0->spotipy) (2.0.1)\n",
            "Requirement already satisfied: certifi>=2017.4.17 in /usr/local/lib/python3.7/dist-packages (from requests>=2.25.0->spotipy) (2021.5.30)\n",
            "Requirement already satisfied: idna<4,>=2.5; python_version >= \"3\" in /usr/local/lib/python3.7/dist-packages (from requests>=2.25.0->spotipy) (2.10)\n"
          ],
          "name": "stdout"
        }
      ]
    },
    {
      "cell_type": "markdown",
      "metadata": {
        "id": "_rh7Eji2zHNu"
      },
      "source": [
        "Spotipy Authorization. Accounts details in part 1 of collab"
      ]
    },
    {
      "cell_type": "code",
      "metadata": {
        "id": "86DU_3r87zSH"
      },
      "source": [
        "import spotipy\n",
        "import os\n",
        "import pandas as pd\n",
        "from spotipy.oauth2 import SpotifyClientCredentials\n",
        "#Input credentials here\n",
        "cid = ''\n",
        "secret = ''\n",
        "############################################\n",
        "client_credentials_manager = SpotifyClientCredentials(client_id=cid, client_secret=secret)\n",
        "# Use sp.(command) for spotipy functions\n",
        "sp = spotipy.Spotify(client_credentials_manager\n",
        "=\n",
        "client_credentials_manager)"
      ],
      "execution_count": 6,
      "outputs": []
    },
    {
      "cell_type": "markdown",
      "metadata": {
        "id": "8zmizvT9zkoZ"
      },
      "source": [
        "Sklearn imports + Data Import/Preprocessing"
      ]
    },
    {
      "cell_type": "code",
      "metadata": {
        "id": "SQBTd_za5uPw"
      },
      "source": [
        "from sklearn.ensemble import RandomForestClassifier\n",
        "from sklearn.model_selection import train_test_split\n",
        "from sklearn.model_selection import cross_val_score\n",
        "from sklearn.metrics import classification_report, confusion_matrix\n",
        "from sklearn.utils.multiclass import unique_labels\n",
        "\n",
        "#Load songs from external CSV:\n",
        "total_df = pd.read_csv (r'/content/songs_with_info.csv')\n",
        "#print(total_df.columns)\n",
        "#Creating new df with only required columns for model\n",
        "Xdf = pd.DataFrame(total_df, columns = ['acousticness', 'danceability', 'liveness', 'loudness', 'speechiness'])\n",
        "#print(Xdf.columns)\n",
        "ydf = pd.DataFrame(total_df, columns = ['label'])\n",
        "#print(ydf.columns)"
      ],
      "execution_count": 7,
      "outputs": []
    },
    {
      "cell_type": "code",
      "metadata": {
        "colab": {
          "base_uri": "https://localhost:8080/"
        },
        "id": "R_K73If409P8",
        "outputId": "145ac314-5cf6-4b3e-d462-b2d4207ad34f"
      },
      "source": [
        "#setting X, y to the respective dataframes\n",
        "X = Xdf\n",
        "y = ydf\n",
        "#splitting into train/test with 1/3 test\n",
        "X_train, X_test, y_train, y_test = train_test_split(X, y, test_size=0.33)\n",
        "#Using random forest classifier with 100 n_estimators\n",
        "rfc = RandomForestClassifier(n_estimators=100,criterion='gini')\n",
        "rfc.fit(X_train,y_train)"
      ],
      "execution_count": 8,
      "outputs": [
        {
          "output_type": "stream",
          "text": [
            "/usr/local/lib/python3.7/dist-packages/ipykernel_launcher.py:8: DataConversionWarning: A column-vector y was passed when a 1d array was expected. Please change the shape of y to (n_samples,), for example using ravel().\n",
            "  \n"
          ],
          "name": "stderr"
        },
        {
          "output_type": "execute_result",
          "data": {
            "text/plain": [
              "RandomForestClassifier(bootstrap=True, ccp_alpha=0.0, class_weight=None,\n",
              "                       criterion='gini', max_depth=None, max_features='auto',\n",
              "                       max_leaf_nodes=None, max_samples=None,\n",
              "                       min_impurity_decrease=0.0, min_impurity_split=None,\n",
              "                       min_samples_leaf=1, min_samples_split=2,\n",
              "                       min_weight_fraction_leaf=0.0, n_estimators=100,\n",
              "                       n_jobs=None, oob_score=False, random_state=None,\n",
              "                       verbose=0, warm_start=False)"
            ]
          },
          "metadata": {
            "tags": []
          },
          "execution_count": 8
        }
      ]
    },
    {
      "cell_type": "code",
      "metadata": {
        "id": "0jChp5XD1v5T"
      },
      "source": [
        "#Prediction run code\n",
        "y_pred = rfc.predict(X_test)\n"
      ],
      "execution_count": 9,
      "outputs": []
    },
    {
      "cell_type": "code",
      "metadata": {
        "colab": {
          "base_uri": "https://localhost:8080/"
        },
        "id": "MO3SCk3I2IUE",
        "outputId": "21fc77c1-2029-497b-be34-2a4dcc5e5b54"
      },
      "source": [
        "#Evaluating the models accuracy\n",
        "#Note: It seems to be super accurate, with 99% accuracy(Test 1), I'll test it manually\n",
        "from sklearn.metrics import accuracy_score\n",
        "from sklearn.metrics import confusion_matrix\n",
        "accuracy_score(y_test, y_pred)"
      ],
      "execution_count": 10,
      "outputs": [
        {
          "output_type": "execute_result",
          "data": {
            "text/plain": [
              "0.9990892531876139"
            ]
          },
          "metadata": {
            "tags": []
          },
          "execution_count": 10
        }
      ]
    },
    {
      "cell_type": "markdown",
      "metadata": {
        "id": "R4QGUlxksIF4"
      },
      "source": [
        "Here I'm going to check some songs in the testing data, and see what the model labeled them as."
      ]
    },
    {
      "cell_type": "code",
      "metadata": {
        "colab": {
          "base_uri": "https://localhost:8080/"
        },
        "id": "qctiVmVb3xJN",
        "outputId": "2c39a7a7-1e8d-4050-b7ee-b07cba461104"
      },
      "source": [
        "# Manual Testing:\n",
        "output = pd.DataFrame(y_test)\n",
        "# stitching indexes from y_test to y_pred\n",
        "output['Pred'] = y_pred\n",
        "#del output['label']\n",
        "print(output)"
      ],
      "execution_count": 11,
      "outputs": [
        {
          "output_type": "stream",
          "text": [
            "      label  Pred\n",
            "7419      2     2\n",
            "3174      2     2\n",
            "552       2     2\n",
            "1174      2     2\n",
            "2267      0     0\n",
            "...     ...   ...\n",
            "5854      2     2\n",
            "4564      2     2\n",
            "5457      1     1\n",
            "7074      2     2\n",
            "1542      2     2\n",
            "\n",
            "[3294 rows x 2 columns]\n"
          ],
          "name": "stdout"
        }
      ]
    },
    {
      "cell_type": "code",
      "metadata": {
        "colab": {
          "base_uri": "https://localhost:8080/"
        },
        "id": "9CWW9_QX5bZL",
        "outputId": "180f95e4-0aee-47e7-ca1e-fdfe69669c2f"
      },
      "source": [
        "#From the output above, I arbitrarily choose a song, and find its name/artist by its index\n",
        "name_id = pd.DataFrame(total_df, columns = ['name', 'artist'])\n",
        "#Input index in id.loc[[___]]\n",
        "print(name_id.loc[[7794]])"
      ],
      "execution_count": 12,
      "outputs": [
        {
          "output_type": "stream",
          "text": [
            "           name             artist\n",
            "7794  Car Radio  Twenty One Pilots\n"
          ],
          "name": "stdout"
        }
      ]
    },
    {
      "cell_type": "markdown",
      "metadata": {
        "id": "ETqVQ2AM65nf"
      },
      "source": [
        "Manual Testing - Seems to be good with Label 0 - energetic"
      ]
    },
    {
      "cell_type": "markdown",
      "metadata": {
        "id": "EbdbEleR6IY2"
      },
      "source": [
        "1 - calming\n",
        "2 - happy\n",
        "3 - sad\n",
        "0 - energetic"
      ]
    },
    {
      "cell_type": "markdown",
      "metadata": {
        "id": "UmI4svZq7D3M"
      },
      "source": [
        "Here I'm going to test the model with new songs that are(hopefully) not in the training data. This code will take in the link to a spotify song(only one song for now). Then it will output a label."
      ]
    },
    {
      "cell_type": "code",
      "metadata": {
        "id": "p3-Rwjn-7Ay2",
        "colab": {
          "base_uri": "https://localhost:8080/"
        },
        "outputId": "17163407-a107-4726-ceb8-3e05ec1587bc"
      },
      "source": [
        "#input any song link to test in the place of the link below\n",
        "MStester = sp.audio_features('https://open.spotify.com/track/2CdTLdDjwZdVcm0bresVWx?si=3c83eb5c5f3d4f04')[0]\n",
        "ms = pd.DataFrame(MStester, index = [0])\n",
        "#print(ms.columns)\n",
        "Ms = pd.DataFrame(ms, index = [0], columns = ['acousticness', 'danceability', 'liveness', 'loudness', 'speechiness'])\n",
        "#print(Ms)\n",
        "print(\"The label is \" + str(rfc.predict(Ms)))"
      ],
      "execution_count": 14,
      "outputs": [
        {
          "output_type": "stream",
          "text": [
            "The label is [0]\n"
          ],
          "name": "stdout"
        }
      ]
    }
  ]
}